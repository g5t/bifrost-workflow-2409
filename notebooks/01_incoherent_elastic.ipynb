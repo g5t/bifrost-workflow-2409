{
 "cells": [
  {
   "cell_type": "code",
   "execution_count": null,
   "id": "b699a49c-625d-4d04-8d2b-73acd751b7d3",
   "metadata": {},
   "outputs": [],
   "source": [
    "import scipp as sc\n",
    "import plopp as pp\n",
    "import scippneutron as scn\n",
    "import scippnexus as snx\n",
    "import h5py"
   ]
  },
  {
   "cell_type": "markdown",
   "id": "b54d2437-af99-4e39-991c-2eb1311bac38",
   "metadata": {},
   "source": [
    "## An incoherent elastic scattering simulated sample\n",
    "The data file specified below contains simulated scattering from a sample with one incoherent scattering mode,\n",
    "which is controlled by an instrument variable `mode_energy`.\n",
    "\n",
    "| Parameter | Value | Notes |\n",
    "|-----------|-------|-------|\n",
    "| `mode_energy` / meV | 0 | a small energy width gives _some_ inelastic scattering |\n",
    "| $a_3$ / degree | `None` | the sample angle was not a parameter in this simulation, so has any single value |\n",
    "| $a_4$ / degree | 90. | all simulations have this single detector tank position |\n",
    "| pulse-shaping chopper opening time  / msec | 0.2 | picked to be a realistic best-case energy-resolution |\n",
    "| minimum $E_i$ / meV | 2.5 | giving a maximum of ~5.1 meV due to BIFROST's pseudo-white beam |\n",
    "\n",
    "The simulation was started at approxmately 19:23:05 UTC on 29. August 2024."
   ]
  },
  {
   "cell_type": "code",
   "execution_count": null,
   "id": "d92e0648-5728-4c28-8924-7bd8563cfc93",
   "metadata": {},
   "outputs": [],
   "source": [
    "datafile = \"20240829/BIFROST_20240829T192305.h5\""
   ]
  },
  {
   "cell_type": "markdown",
   "id": "dde27bc1-da00-4d11-bfd8-154bf74956ba",
   "metadata": {},
   "source": [
    "Simulation results are hosted via the [DMSC Nextcloud](https://project.esss.dk/owncloud/index.php/s/Diq9n3kITaEBtq7?path=%2FSimulations) instance.\n",
    "The Python module contained in this project `bifrost2409` has a utility based on [`pooch`](https://pypi.org/project/pooch/) to automatically download simulated files. (More files are available to download this way, you can see the full list in `pooch-registry.txt` located under `bifrost2409.config.META_DATA_DIR`)\n",
    "\n",
    "> **Warning**\n",
    "> You can run the following command without arguments, in which case it is configured to download all datafiles used in these notebooks.\n",
    "> You may like to do this in preparation for continuing later without network access, but doing so is likely to take some time.\n",
    "\n",
    "After completion, the downloaded data file(s) is/are located in this project at `bifrost2409.config.POOCH_DATA_DIR`."
   ]
  },
  {
   "cell_type": "code",
   "execution_count": null,
   "id": "da924eec-5f33-4ebf-a636-5f5e184223d3",
   "metadata": {},
   "outputs": [],
   "source": [
    "from bifrost2409.config import POOCH_DATA_DIR\n",
    "from bifrost2409.dataset import download_datafiles\n",
    "download_datafiles([datafile])"
   ]
  },
  {
   "cell_type": "markdown",
   "id": "45c2bd7b-3d9c-48f2-894c-9434ddc42e4c",
   "metadata": {},
   "source": [
    "### McStas ToF versus `frame_time`"
   ]
  },
  {
   "cell_type": "markdown",
   "id": "f82b07c6-ed66-447f-ab1d-c40f476303ac",
   "metadata": {},
   "source": [
    "The simulated McStas events record their 'true' time-of-flight, and the Event Formation Unit does not filter too-long ToF values.\n",
    "In order to emulate what will appear in _real_ files, we must convert the per-event `event_time_offset` to a time which is relative to the _last_ accelerator reference time.\n",
    "\n",
    "This requires that we use the modulo operator, and a `transform_coords` graph to modify the per-event data."
   ]
  },
  {
   "cell_type": "code",
   "execution_count": null,
   "id": "e6d28383-006e-4a9a-820d-6712bf07ef47",
   "metadata": {},
   "outputs": [],
   "source": [
    "def calculate_frame_time(event_time_offset):\n",
    "    source_frequency = sc.scalar(14.0, unit='Hz')\n",
    "    source_period = (1 / source_frequency).to(unit='ns')\n",
    "    return event_time_offset % source_period"
   ]
  },
  {
   "cell_type": "markdown",
   "id": "b0463ba9-115e-4d47-840c-374c8022dc2c",
   "metadata": {},
   "source": [
    "If we know the location of the object we want to examine in a NeXus file, we can access it directly:\n",
    "\n",
    "Here, lets load the data for the first triplet in the first scattering angle wedge, `123_channel_1_1_triplet`\n",
    "which is inside of the main `entry` group, within a group called `instrument`."
   ]
  },
  {
   "cell_type": "code",
   "execution_count": null,
   "id": "4537f7fb-96f3-401c-bd7d-91821b43e2e5",
   "metadata": {},
   "outputs": [],
   "source": [
    "with snx.File(POOCH_DATA_DIR / datafile) as dg:\n",
    "    detector = dg['entry/instrument/123_channel_1_1_triplet'][...]\n",
    "\n",
    "detector"
   ]
  },
  {
   "cell_type": "markdown",
   "id": "4883f4f8-d7ce-4ac0-924a-318a19647f85",
   "metadata": {},
   "source": [
    "Since the group gets loaded as a `scipp.DataGroup`, we access its members like those of a `dict`. To get the data:"
   ]
  },
  {
   "cell_type": "code",
   "execution_count": null,
   "id": "0952eda1-16cd-44d2-a5f6-00e762df7ed6",
   "metadata": {},
   "outputs": [],
   "source": [
    "detector['data']"
   ]
  },
  {
   "cell_type": "code",
   "execution_count": null,
   "id": "e5bd088e-2d08-4b08-bad2-4ccf6f83690f",
   "metadata": {},
   "outputs": [],
   "source": [
    "detector_data_with_frame_time = detector['data'].transform_coords(frame_time=calculate_frame_time)\n",
    "p0 = detector_data_with_frame_time.hist(event_time_offset=200).sum('dim_1').plot()\n",
    "p1 = detector_data_with_frame_time.hist(frame_time=200).sum('dim_1').plot()\n",
    "p0 + p1"
   ]
  },
  {
   "cell_type": "markdown",
   "id": "28a36737-fd44-4d55-a8b8-bba9dd920c1d",
   "metadata": {},
   "source": [
    "## Loading many groups\n",
    "Knowing the locations and names of all NeXus object groups can quickly become tedious, \n",
    "so instead `scippnexus` can load all object groups that specify they are of a specific [NeXus base class](https://manual.nexusformat.org/classes/base_classes/index.html) type.\n",
    "\n",
    "In the BIFROST simulations, all detectors are `NXdetector`, all analyzers are `NXcrystal`, all choppers are `NXdisk_chopper`, \n",
    "and all monitors are `NXmonitor`.\n",
    "The following loads all such objects in the instrument group, and stores their loaded values in Python dictionaries."
   ]
  },
  {
   "cell_type": "code",
   "execution_count": null,
   "id": "b5764ae1-c4d0-49f1-910c-a7d01185b273",
   "metadata": {},
   "outputs": [],
   "source": [
    "with snx.File(POOCH_DATA_DIR / datafile) as dg:\n",
    "    inst_group = dg['entry/instrument']\n",
    "    triplets = {name: obj[...] for name, obj in inst_group[snx.NXdetector].items()}\n",
    "    analyzers = {name: obj[...] for name, obj in inst_group[snx.NXcrystal].items()}\n",
    "    choppers = {name: obj[...] for name, obj in inst_group[snx.NXdisk_chopper].items()}\n",
    "    monitors = {name: obj[...] for name, obj in inst_group[snx.NXmonitor].items()}"
   ]
  },
  {
   "cell_type": "markdown",
   "id": "87434b49-086a-43f0-bc14-4f995ddf277b",
   "metadata": {},
   "source": [
    "The detectors have the same unphysical `event_time_offset` problem, plus we need to know where they're located.\n",
    "We can fix both issues in one loop:"
   ]
  },
  {
   "cell_type": "code",
   "execution_count": null,
   "id": "7e86125a-44ef-42f6-90c3-1b0bbbece473",
   "metadata": {},
   "outputs": [],
   "source": [
    "for name in triplets:\n",
    "    triplets[name] = snx.compute_positions(triplets[name], store_transform='transform')\n",
    "    triplets[name]['data'] = triplets[name]['data'].transform_coords(frame_time=calculate_frame_time)"
   ]
  },
  {
   "cell_type": "code",
   "execution_count": null,
   "id": "159486ce-cb38-47e3-8190-0fe09f25fcce",
   "metadata": {},
   "outputs": [],
   "source": [
    "triplets['127_channel_1_2_triplet']['data']"
   ]
  },
  {
   "cell_type": "markdown",
   "id": "711540ba-b14c-4c59-8420-683e19301de4",
   "metadata": {},
   "source": [
    "Each triplet object contains detection events for neutrons which interacted with a single analyzer.\n",
    "\n",
    "_This is enforced with logic in the simulation, in reality the cross-talk shielding **should** enforce the same condition_\n",
    "\n",
    "> _Note_: The NeXus format does not contain a mechanism to explicitly state neutron-path relationship\n",
    "> (or, equivalently, McStas instrument component order). One could imagine using the `depends_on` chain for this,\n",
    "> but a) this gets tricky to interpret before vs. after the sample (coordinate system origin)\n",
    "> and b) limitations in the old NeXus Constructor or File Writer enfoced that this file has only absolute positioned components.\n",
    ">\n",
    "\n",
    "To enable automatic identification of the correct triplet analyzer pairs, the object _names_ are prefixed with an integer.\n",
    "This only works as long as the order and contents of the McStas simulation do not change."
   ]
  },
  {
   "cell_type": "code",
   "execution_count": null,
   "id": "bc03045f-c26a-4b1b-8249-1e7e34fa2094",
   "metadata": {},
   "outputs": [],
   "source": [
    "# The analyzer name for each detector has a number two less at the start of its name:\n",
    "d2a_name = {d: [x for x in analyzers.keys() if x.startswith(str(int(d.split('_',1)[0])-2))][0] for d in list(triplets.keys())}"
   ]
  },
  {
   "cell_type": "markdown",
   "id": "33e17623-b596-443b-83c7-4e6c0031a64f",
   "metadata": {},
   "source": [
    "We also need to find the triplet object name for each pixel number"
   ]
  },
  {
   "cell_type": "code",
   "execution_count": null,
   "id": "7e06221c-8267-48f4-9926-8802a78bad0b",
   "metadata": {},
   "outputs": [],
   "source": [
    "# Map pixel index to physical detector name\n",
    "p2d = {i: d for d in list(triplets.keys()) for i in triplets[d]['data'].coords['detector_number'].values.flatten()}"
   ]
  },
  {
   "cell_type": "markdown",
   "id": "dd1ce4b6-ae62-423f-bd5f-f87b1009f10a",
   "metadata": {},
   "source": [
    "Compute the position (and orientation) of each analyzer, then combine a subset of their properties and duplicate that to have per-pixel analyzer information."
   ]
  },
  {
   "cell_type": "code",
   "execution_count": null,
   "id": "a852b83b-e4fd-4159-98d1-02608d881947",
   "metadata": {},
   "outputs": [],
   "source": [
    "def analyzer_extract(obj):\n",
    "    obj = snx.compute_positions(obj, store_transform='transform')\n",
    "    return sc.Dataset(data={k: obj[k] for k in ('position', 'transform', 'd_spacing')})\n",
    "\n",
    "analyzer_extracted = {k: analyzer_extract(v) for k, v in analyzers.items()}\n",
    "p2a_extract = {k: analyzer_extracted[d2a_name[v]] for k, v in p2d.items()}\n",
    "# by sorting the pixel indices, we ensure a one-to-one match with detector information\n",
    "pixels = sorted(p2a_extract)\n",
    "analyzers = sc.concat([p2a_extract[p] for p in pixels], dim='event_id')\n",
    "analyzers['event_id'] = sc.array(values=pixels, dims=['event_id'], unit=None)"
   ]
  },
  {
   "cell_type": "markdown",
   "id": "aab113fd-8b4a-46e6-ac74-e0aee4f716f5",
   "metadata": {},
   "source": [
    "The same can be done for the detectors, to have per-pixel detector information"
   ]
  },
  {
   "cell_type": "code",
   "execution_count": null,
   "id": "10bfacfe-5722-4f8d-a07c-2db113ed4aff",
   "metadata": {},
   "outputs": [],
   "source": [
    "def detector_extract(name, obj):\n",
    "    pixel_indices = obj['data'].coords['detector_number']\n",
    "    cyl_midpoints = obj['data'].coords['position']\n",
    "    \n",
    "    return sc.Dataset(data={'event_id': pixel_indices, 'position': cyl_midpoints})\n",
    "\n",
    "detector_extracted = {k: detector_extract(k, v) for k, v in triplets.items()}\n",
    "detectors = sc.concat(list(detector_extracted.values()), dim='arm')\n",
    "detectors = sc.Dataset({k: v.flatten(to='event_id') for k, v in detectors.items()})\n",
    "detectors = sc.sort(detectors, detectors['event_id'].data)"
   ]
  },
  {
   "cell_type": "markdown",
   "id": "dd939c23-2ee1-4138-bbc0-00209267dde6",
   "metadata": {},
   "source": [
    "## Visual verification of proper pixel to detector mapping\n",
    "We can verify that the pixels appear to be ordered and positioned correctly by plotting them colored by pixel number:"
   ]
  },
  {
   "cell_type": "code",
   "execution_count": null,
   "id": "1d2acfa6-08f5-43b5-b41c-f5e1bb51ecbb",
   "metadata": {},
   "outputs": [],
   "source": [
    "ordered=sc.arange(start=0, stop=sc.max(detectors['event_id'].data).value, dim='event_id')\n",
    "pp.scatter3d(sc.DataArray(data=ordered, coords={'pos': detectors['position'].data}), pos='pos', pixel_size=0.01, cbar=True, cmap='inferno')"
   ]
  },
  {
   "cell_type": "markdown",
   "id": "7341731f-1118-4146-8c07-b9d1df4749cd",
   "metadata": {},
   "source": [
    "Or by final-energy group:"
   ]
  },
  {
   "cell_type": "code",
   "execution_count": null,
   "id": "a603492a-0463-40a1-850a-415e3cd5ed98",
   "metadata": {},
   "outputs": [],
   "source": [
    "import matplotlib as mpl\n",
    "cmap = mpl.colormaps['turbo'].resampled(15)\n",
    "cmap.name='n_turbo'\n",
    "if mpl.colormaps.get(cmap.name) is None:\n",
    "    mpl.colormaps.register(cmap=cmap)\n",
    "\n",
    "selected = 0 * ordered\n",
    "selected.values = ordered.values / 900\n",
    "pp.scatter3d(sc.DataArray(data=selected, coords={'pos': detectors['position'].data}), pos='pos', pixel_size=0.01, cmap='n_turbo', cbar=True)"
   ]
  },
  {
   "cell_type": "markdown",
   "id": "b143fc67-5cb1-4726-84f8-5b58c67dc420",
   "metadata": {},
   "source": [
    "Or by pseudo a4:"
   ]
  },
  {
   "cell_type": "code",
   "execution_count": null,
   "id": "e3031c90-20d1-4e68-92c7-9bd03e8d3207",
   "metadata": {},
   "outputs": [],
   "source": [
    "selected = 0 * ordered\n",
    "selected.values = ordered.values % 900\n",
    "pp.scatter3d(sc.DataArray(data=selected, coords={'pos': detectors['position'].data}), pos='pos', pixel_size=0.01, cmap='inferno', cbar=True)"
   ]
  },
  {
   "cell_type": "markdown",
   "id": "6885c0a8-d241-4a7f-b9b5-79160dd9e4fd",
   "metadata": {},
   "source": [
    "## We can see all events for all pixels\n",
    "\n",
    "As a function of simulation runtime (equivalent to measurement time)"
   ]
  },
  {
   "cell_type": "code",
   "execution_count": null,
   "id": "1f987441-5251-4360-b932-9c61d0e36fc5",
   "metadata": {},
   "outputs": [],
   "source": [
    "all_events = sc.concat([v['data'] for v in triplets.values()], 'event_time_zero').bins.concat().group('event_time_zero')\n",
    "all_events.hist(frame_time=200).plot()"
   ]
  },
  {
   "cell_type": "markdown",
   "id": "a8516455-2f94-4700-ac67-5c2c2eb96081",
   "metadata": {},
   "source": [
    "Or integrated over the measurement time"
   ]
  },
  {
   "cell_type": "code",
   "execution_count": null,
   "id": "3185424b-1a41-4ba0-9259-ff9f169f7d05",
   "metadata": {},
   "outputs": [],
   "source": [
    "all_events.hist(frame_time=200).sum('event_time_zero').plot()"
   ]
  },
  {
   "cell_type": "markdown",
   "id": "aeb65f52-0037-4675-a3a2-0c9e39f35920",
   "metadata": {},
   "source": [
    "## To identify the time-of-flight we must back-propagate the events\n",
    "The sample-to-detector flight time is fixed per pixel, so we can find the frame time for each event when the neutron interacted with the sample.\n",
    "This requires that we use part of the workflow, and `sciline`"
   ]
  },
  {
   "cell_type": "code",
   "execution_count": null,
   "id": "8cec0e61-c979-4cd8-aec5-e35733c263d5",
   "metadata": {},
   "outputs": [],
   "source": [
    "from sciline import Pipeline\n",
    "import numpy as np\n",
    "from ess.spectroscopy.types import *\n",
    "from ess.spectroscopy.indirect.kf import providers as kf_providers"
   ]
  },
  {
   "cell_type": "markdown",
   "id": "dc8dc8d1-f1f6-4a2b-bbff-69e376ef69c1",
   "metadata": {},
   "source": [
    "The sample _should_ be at (0, 0, 0), but we use its recorded position in case it is not.\n",
    "Then we collect parameters needed to find the per-pixel sample-to-detector times, \n",
    "and construct the graph that can perform the calculation"
   ]
  },
  {
   "cell_type": "code",
   "execution_count": null,
   "id": "42dfce0b-3a34-46f2-9965-72671051e78f",
   "metadata": {},
   "outputs": [],
   "source": [
    "with snx.File(POOCH_DATA_DIR / datafile) as dg:\n",
    "    sample = snx.compute_positions(dg['entry/instrument/114_sample_stack'][...], store_transform='transform')\n",
    "\n",
    "geometry_params = {\n",
    "    SamplePosition: sample['position'],\n",
    "    AnalyzerPosition: analyzers['position'].data,\n",
    "    AnalyzerOrientation: analyzers['transform'].data,\n",
    "    DetectorPosition: detectors['position'].data,\n",
    "    ReciprocalLatticeSpacing: 2 * np.pi / analyzers['d_spacing'].data,\n",
    "}\n",
    "sample_detector_flight_time_pipeline = Pipeline(kf_providers, params=geometry_params)\n",
    "\n",
    "sample_detector_flight_time_pipeline.get(SampleDetectorFlightTime).visualize()"
   ]
  },
  {
   "cell_type": "code",
   "execution_count": null,
   "id": "a9a094d8-217b-4a20-b875-0c319e9fdcaa",
   "metadata": {},
   "outputs": [],
   "source": [
    "sample_detector_flight_times = sample_detector_flight_time_pipeline.get(SampleDetectorFlightTime).compute().to(unit='ms')\n",
    "p0 = sample_detector_flight_times.plot()\n",
    "p0.canvas.ylabel = f'Sample-detector flight times {p0.canvas.ylabel}'\n",
    "p0"
   ]
  },
  {
   "cell_type": "markdown",
   "id": "8b259146-5790-407c-bb9c-c894808a3bbd",
   "metadata": {},
   "source": [
    "The same pipeline can be used to extract other quantities, like the sample to detector flight path length"
   ]
  },
  {
   "cell_type": "code",
   "execution_count": null,
   "id": "64f83e0f-42a5-44ed-87bc-2046f2315948",
   "metadata": {},
   "outputs": [],
   "source": [
    "sample_detector_flight_path_length = sample_detector_flight_time_pipeline.get(SampleDetectorPathLength).compute().to(unit='m')\n",
    "p0 = sample_detector_flight_path_length.plot()\n",
    "p0.canvas.ylabel = f'Sample-detector flight-path length {p0.canvas.ylabel}'\n",
    "p1 = sample_detector_flight_path_length[:2700].plot()\n",
    "p1.canvas.ylabel = f'Sample-detector flight-path length {p1.canvas.ylabel}'\n",
    "p0 + p1"
   ]
  },
  {
   "cell_type": "markdown",
   "id": "d9725392-b12a-492c-ba05-207cf5ee7a01",
   "metadata": {},
   "source": [
    "Or the per-pixel final energy"
   ]
  },
  {
   "cell_type": "code",
   "execution_count": null,
   "id": "24b041e0-c05a-4a4c-ab68-fb8895a21a69",
   "metadata": {},
   "outputs": [],
   "source": [
    "final_energy = sample_detector_flight_time_pipeline.get(FinalEnergy).compute()\n",
    "p0 = final_energy.plot()\n",
    "p1 = final_energy[:2700].plot()\n",
    "p0 + p1"
   ]
  },
  {
   "cell_type": "markdown",
   "id": "8cadd25b-7aab-495f-934d-bafa331b8a08",
   "metadata": {},
   "source": [
    "Collect the events for all triplets, sorted by pixel index; then perform the back-propagation\n"
   ]
  },
  {
   "cell_type": "code",
   "execution_count": null,
   "id": "d7c23641-1a99-42ba-95fe-3c9b1c1a9e8c",
   "metadata": {},
   "outputs": [],
   "source": [
    "triplet_events = sc.concat([v['data'] for v in triplets.values()], dim='a').flatten(to='event_id')\n",
    "triplet_events = sc.sort(triplet_events, triplet_events.coords['detector_number'])\n",
    "\n",
    "sample_events = triplet_events.copy()\n",
    "for coord in ('position', 'x_pixel_offset', 'y_pixel_offset'):\n",
    "    del sample_events.coords[coord]\n",
    "sample_events.bins.coords['frame_time'] -= sample_detector_flight_times.to(unit='ns')\n",
    "sample_events.bins.coords['frame_time'] %= (1/sc.scalar(14.0, unit='Hz')).to(unit='ns')\n",
    "\n",
    "pp.plot({\n",
    "    'time at sample': sample_events.bins.concat().hist(frame_time=300), \n",
    "    'time at detector': triplet_events.bins.concat().hist(frame_time=300)\n",
    "}, title=\"Simulated Neutron Events\")"
   ]
  },
  {
   "cell_type": "markdown",
   "id": "9ed75fa6-193d-4b19-9c0e-3907bcde61e8",
   "metadata": {},
   "source": [
    "### Now use the primary spectrometer to find the likely time-of-flight per event"
   ]
  },
  {
   "cell_type": "code",
   "execution_count": null,
   "id": "89d3b449-c342-410d-88da-749712e1591d",
   "metadata": {},
   "outputs": [],
   "source": [
    "from ess.spectroscopy.indirect.ki import providers as ki_providers\n",
    "primary_params = {\n",
    "    NeXusFileName: POOCH_DATA_DIR / datafile,\n",
    "    SampleName: '114_sample_stack',\n",
    "    SourceName: '001_ESS_source',\n",
    "    SourceDelay: sc.array(values=[0, 0], dims=['wavelength'], unit='sec'),  # moderator emission delay\n",
    "    SourceDuration: sc.scalar(3.0, unit='msec').to(unit='sec'),\n",
    "    SourceFrequency: sc.scalar(14.0, unit='Hz'),\n",
    "    SourceVelocities: sc.array(values=[100, 1e4], dims=['wavelength'], unit='m/s'), # ~53 ueV to 530 meV\n",
    "    SampleFrameTime: sample_events.data.bins.coords['frame_time'],\n",
    "    FocusComponentNames: [FocusComponentName('005_PulseShapingChopper'), FocusComponentName('006_PulseShapingChopper2')],\n",
    "}\n",
    "primary_pipeline = Pipeline(ki_providers, params=primary_params)\n",
    "primary_pipeline.get(SampleTime).visualize()"
   ]
  },
  {
   "cell_type": "code",
   "execution_count": null,
   "id": "a092879e-9794-448c-ac58-f3fd9c69324c",
   "metadata": {},
   "outputs": [],
   "source": [
    "primary = primary_pipeline.get(PrimarySpectrometerObject).compute()"
   ]
  },
  {
   "cell_type": "code",
   "execution_count": null,
   "id": "fef15431-0962-4b5d-bd73-8247a7e54a22",
   "metadata": {},
   "outputs": [],
   "source": [
    "from polystar.plot import polygon_plot as pplot\n",
    "from matplotlib import pyplot\n",
    "remain, parts = primary.project_transmitted_on(6.349409783731071)\n",
    "ax = None\n",
    "ymin, ymax = 0, 1/400\n",
    "if len(remain):\n",
    "    for p in remain:\n",
    "        ax = pplot(p, ax=ax, facecolor=\"None\")\n",
    "    focus = remain[0].centroid[0]\n",
    "    ax.plot([focus[0], focus[0]], [ymin, ymax], '--', color='gray')\n",
    "    ax.text(focus[0], focus[1]-0.3*(ymax-ymin), ' PSC focus time')\n",
    "for part in parts:\n",
    "    for p in part:\n",
    "        ax = pplot(p, ax=ax, alpha=0.1)\n",
    "r = pyplot.setp(ax, xlim=[0, 1/14/4], ylim=[ymin, ymax], xlabel='frame time [s]', ylabel='slowness [s/m]', \n",
    "                title='Phase space transmitted by each chopper, projected to PSC position')\n",
    "\n",
    "#ax"
   ]
  },
  {
   "cell_type": "code",
   "execution_count": null,
   "id": "36e75609-accc-48ab-b114-f53b1781c8b4",
   "metadata": {},
   "outputs": [],
   "source": [
    "unwrapped_sample_events = sample_events.copy()\n",
    "unwrapped_sample_events.bins.coords['frame_time'] = primary_pipeline.get(SampleTime).compute()"
   ]
  },
  {
   "cell_type": "code",
   "execution_count": null,
   "id": "560913be-3d1a-4dc6-9fed-0da2df4a1f34",
   "metadata": {},
   "outputs": [],
   "source": [
    "pp.plot({\n",
    "    'time at sample': sample_events.bins.concat().hist(frame_time=300), \n",
    "    'unwrapped time at sample': unwrapped_sample_events.bins.concat().hist(frame_time=300),\n",
    "}, title=\"Simulated Neutron Events\")"
   ]
  },
  {
   "cell_type": "markdown",
   "id": "d992c5ea-0492-41b9-96d3-568e3afe3bcf",
   "metadata": {},
   "source": [
    "The unwrapped sample time minus the pulse shaping chopper focus time gives the primary-spectrometer time-of-flight, and incident energy.\n",
    "We can verify that this has been done correctly by propagating the unwrapped times to the detectors, and comparing with the McStas recorded time-of-flights:"
   ]
  },
  {
   "cell_type": "code",
   "execution_count": null,
   "id": "415fb968-2508-4a64-9458-df4827f5aa50",
   "metadata": {},
   "outputs": [],
   "source": [
    "mcstas_events = triplet_events.copy()\n",
    "del mcstas_events.bins.coords['frame_time'] # otherwise we can't rename event_time_zero\n",
    "\n",
    "total_flight_time_events = unwrapped_sample_events.copy()\n",
    "total_flight_time_events.bins.coords['frame_time'] += sample_detector_flight_times.to(unit='ns')"
   ]
  },
  {
   "cell_type": "code",
   "execution_count": null,
   "id": "3839a398-5f90-47f4-8a6a-a9bd2753058e",
   "metadata": {},
   "outputs": [],
   "source": [
    "pp.plot({\n",
    "    'Unwrapped time at detector': total_flight_time_events.bins.concat().hist(frame_time=300),\n",
    "    'McStas time of flight': mcstas_events.transform_coords(frame_time='event_time_offset').bins.concat().hist(frame_time=300),\n",
    "}, title=\"Simulated Neutron Events\")"
   ]
  },
  {
   "cell_type": "markdown",
   "id": "97707981-581b-4a53-a662-a1390c4c88a0",
   "metadata": {},
   "source": [
    "## Convert from times to energies"
   ]
  },
  {
   "cell_type": "code",
   "execution_count": null,
   "id": "85bf4903-d5fb-4b36-9bfa-86f23e12d208",
   "metadata": {},
   "outputs": [],
   "source": [
    "from ess.spectroscopy.indirect.conservation import providers as qe_providers\n",
    "qe_params = dict()\n",
    "qe_params.update(primary_params)\n",
    "qe_params.update(geometry_params)\n",
    "qe_pipeline = Pipeline(qe_providers, params=qe_params)\n",
    "\n",
    "energy_events = sample_events.copy()\n",
    "energy_events.bins.coords['energy_transfer'] = qe_pipeline.get(EnergyTransfer).compute().to(unit='meV')\n",
    "energy_events.bins.coords['incident_energy'] = qe_pipeline.get(IncidentEnergy).compute()"
   ]
  },
  {
   "cell_type": "code",
   "execution_count": null,
   "id": "194f1688-e385-406b-891f-1c731cf6fcca",
   "metadata": {},
   "outputs": [],
   "source": [
    "tube_count = 3 * 9 * 5\n",
    "p0 = energy_events.hist(detector_number=tube_count, incident_energy=256).plot()\n",
    "p1 = energy_events.hist(detector_number=tube_count, energy_transfer=128).plot()\n",
    "p0 + p1"
   ]
  },
  {
   "cell_type": "code",
   "execution_count": null,
   "id": "3363ac96-9e41-4f1f-b10c-d5e92e3a48a9",
   "metadata": {},
   "outputs": [],
   "source": []
  }
 ],
 "metadata": {
  "kernelspec": {
   "display_name": "Python 3 (ipykernel)",
   "language": "python",
   "name": "python3"
  },
  "language_info": {
   "codemirror_mode": {
    "name": "ipython",
    "version": 3
   },
   "file_extension": ".py",
   "mimetype": "text/x-python",
   "name": "python",
   "nbconvert_exporter": "python",
   "pygments_lexer": "ipython3",
   "version": "3.12.5"
  }
 },
 "nbformat": 4,
 "nbformat_minor": 5
}
