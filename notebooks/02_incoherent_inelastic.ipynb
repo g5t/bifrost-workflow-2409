{
 "cells": [
  {
   "cell_type": "code",
   "execution_count": null,
   "id": "b699a49c-625d-4d04-8d2b-73acd751b7d3",
   "metadata": {},
   "outputs": [],
   "source": [
    "import scipp as sc\n",
    "import plopp as pp\n",
    "import scippneutron as scn\n",
    "import scippnexus as snx\n",
    "import h5py"
   ]
  },
  {
   "cell_type": "markdown",
   "id": "b54d2437-af99-4e39-991c-2eb1311bac38",
   "metadata": {},
   "source": [
    "## An incoherent inelastic scattering simulated sample\n",
    "The data file specified below contains simulated scattering from a sample with one incoherent scattering mode,\n",
    "which is controlled by an instrument variable `mode_energy`.\n",
    "The simulation was conducted in six steps, but we will ignore this in order to pretend that the sample has multiple flat modes:\n",
    "\n",
    "| Parameter | Value | Notes |\n",
    "|-----------|-------|-------|\n",
    "| `mode_energy` / meV | \\[0, 0.2, 0.4, 0.6, 0.8, 1,0] | collected stepwise, but analyzed collectively here |\n",
    "| $a_3$ / degree | `None` | the sample angle was not a parameter in this simulation, so has any single value |\n",
    "| $a_4$ / degree | 90. | all simulations have this single detector tank position |\n",
    "| pulse-shaping chopper opening time  / msec | 0.2 | picked to be a realistic best-case energy-resolution |\n",
    "| minimum $E_i$ / meV | 2.5 | giving a maximum of ~5.1 meV due to BIFROST's pseudo-white beam |\n",
    "\n",
    "The simulation was started at approxmately 16:31 UTC on 2. September 2024."
   ]
  },
  {
   "cell_type": "code",
   "execution_count": null,
   "id": "d92e0648-5728-4c28-8924-7bd8563cfc93",
   "metadata": {},
   "outputs": [],
   "source": [
    "datafile = \"20240902/BIFROST_20240902T163047.h5\""
   ]
  },
  {
   "cell_type": "code",
   "execution_count": null,
   "id": "2511f25f-46d7-4d36-9cbd-3bf51fa9e364",
   "metadata": {},
   "outputs": [],
   "source": [
    "from bifrost2409.config import POOCH_DATA_DIR\n",
    "from bifrost2409.dataset import download_datafiles\n",
    "download_datafiles([datafile])"
   ]
  },
  {
   "cell_type": "markdown",
   "id": "1012db63-f0c2-49d9-869a-664f8d8c76cf",
   "metadata": {},
   "source": [
    "### McStas ToF versus `frame_time`"
   ]
  },
  {
   "cell_type": "markdown",
   "id": "0278f57a-0217-46d7-a032-9d3a915b4b6c",
   "metadata": {},
   "source": [
    "The simulated McStas events record their 'true' time-of-flight, and the Event Formation Unit does not filter too-long ToF values.\n",
    "In order to emulate what will appear in _real_ files, we must convert the per-event `event_time_offset` to a time which is relative to the _last_ accelerator reference time.\n",
    "\n",
    "This requires that we use the modulo operator, and a `transform_coords` graph to modify the per-event data."
   ]
  },
  {
   "cell_type": "code",
   "execution_count": null,
   "id": "555f0f1c-9a06-4629-818b-4ff9e3f03c92",
   "metadata": {},
   "outputs": [],
   "source": [
    "def calculate_frame_time(event_time_offset):\n",
    "    source_frequency = sc.scalar(14.0, unit='Hz')\n",
    "    source_period = (1 / source_frequency).to(unit='ns')\n",
    "    return event_time_offset % source_period"
   ]
  },
  {
   "cell_type": "markdown",
   "id": "cd9e0f84-d904-4db4-b910-05dd345ac6b5",
   "metadata": {},
   "source": [
    "If we know the location of the object we want to examine in a NeXus file, we can access it directly:\n",
    "\n",
    "Here, lets load the data for the first triplet in the first scattering angle wedge, `123_channel_1_1_triplet`\n",
    "which is inside of the main `entry` group, within a group called `instrument`."
   ]
  },
  {
   "cell_type": "code",
   "execution_count": null,
   "id": "0323c649-8dca-4990-9e43-08193b0293d1",
   "metadata": {},
   "outputs": [],
   "source": [
    "with snx.File(POOCH_DATA_DIR / datafile) as dg:\n",
    "    detector = dg['entry/instrument/123_channel_1_1_triplet'][...]\n",
    "\n",
    "detector"
   ]
  },
  {
   "cell_type": "markdown",
   "id": "7fdcdcc8-1a28-4c2e-b9f7-002d3bc7f01e",
   "metadata": {},
   "source": [
    "Since the group gets loaded as a `scipp.DataGroup`, we access its members like those of a `dict`. To get the data:"
   ]
  },
  {
   "cell_type": "code",
   "execution_count": null,
   "id": "1bc2deea-0396-4936-9883-195918cd9dcb",
   "metadata": {},
   "outputs": [],
   "source": [
    "detector['data']"
   ]
  },
  {
   "cell_type": "code",
   "execution_count": null,
   "id": "ebc42991-f1f6-48c4-81fb-95a7c9d4827a",
   "metadata": {},
   "outputs": [],
   "source": [
    "detector_data_with_frame_time = detector['data'].transform_coords(frame_time=calculate_frame_time)\n",
    "p0 = detector_data_with_frame_time.hist(event_time_offset=200).sum('dim_1').plot()\n",
    "p1 = detector_data_with_frame_time.hist(frame_time=200).sum('dim_1').plot()\n",
    "p0 + p1"
   ]
  },
  {
   "cell_type": "markdown",
   "id": "6d98fb45-5c0a-4393-8dda-9423304a2b16",
   "metadata": {},
   "source": [
    "## Loading many groups\n",
    "Knowing the locations and names of all NeXus object groups can quickly become tedious, \n",
    "so instead `scippnexus` can load all object groups that specify they are of a specific [NeXus base class](https://manual.nexusformat.org/classes/base_classes/index.html) type.\n",
    "\n",
    "In the BIFROST simulations, all detectors are `NXdetector`, all analyzers are `NXcrystal`, all choppers are `NXdisk_chopper`, \n",
    "and all monitors are `NXmonitor`.\n",
    "The following loads all such objects in the instrument group, and stores their loaded values in Python dictionaries."
   ]
  },
  {
   "cell_type": "code",
   "execution_count": null,
   "id": "e6c4679d-d406-49d1-819e-e7af91822057",
   "metadata": {},
   "outputs": [],
   "source": [
    "with snx.File(POOCH_DATA_DIR / datafile) as dg:\n",
    "    inst_group = dg['entry/instrument']\n",
    "    triplets = {name: obj[...] for name, obj in inst_group[snx.NXdetector].items()}\n",
    "    analyzers = {name: obj[...] for name, obj in inst_group[snx.NXcrystal].items()}\n",
    "    choppers = {name: obj[...] for name, obj in inst_group[snx.NXdisk_chopper].items()}\n",
    "    monitors = {name: obj[...] for name, obj in inst_group[snx.NXmonitor].items()}"
   ]
  },
  {
   "cell_type": "markdown",
   "id": "8e01bea2-aee7-480f-88b2-ddb6ef16d10c",
   "metadata": {},
   "source": [
    "The detectors have the same unphysical `event_time_offset` problem, plus we need to know where they're located.\n",
    "We can fix both issues in one loop:"
   ]
  },
  {
   "cell_type": "code",
   "execution_count": null,
   "id": "e91c8649-1cb9-4c06-93da-22c8c5595512",
   "metadata": {},
   "outputs": [],
   "source": [
    "for name in triplets:\n",
    "    triplets[name] = snx.compute_positions(triplets[name], store_transform='transform')\n",
    "    triplets[name]['data'] = triplets[name]['data'].transform_coords(frame_time=calculate_frame_time)"
   ]
  },
  {
   "cell_type": "code",
   "execution_count": null,
   "id": "aa557e06-f496-40db-99f4-d82f3c66133e",
   "metadata": {},
   "outputs": [],
   "source": [
    "triplets['127_channel_1_2_triplet']['data']"
   ]
  },
  {
   "cell_type": "markdown",
   "id": "2e1cd3d6-b32e-4380-bad3-b781c1695459",
   "metadata": {},
   "source": [
    "Each triplet object contains detection events for neutrons which interacted with a single analyzer.\n",
    "\n",
    "_This is enforced with logic in the simulation, in reality the cross-talk shielding **should** enforce the same condition_\n",
    "\n",
    "> _Note_: The NeXus format does not contain a mechanism to explicitly state neutron-path relationship\n",
    "> (or, equivalently, McStas instrument component order). One could imagine using the `depends_on` chain for this,\n",
    "> but a) this gets tricky to interpret before vs. after the sample (coordinate system origin)\n",
    "> and b) limitations in the old NeXus Constructor or File Writer enfoced that this file has only absolute positioned components.\n",
    ">\n",
    "\n",
    "To enable automatic identification of the correct triplet analyzer pairs, the object _names_ are prefixed with an integer.\n",
    "This only works as long as the order and contents of the McStas simulation do not change."
   ]
  },
  {
   "cell_type": "code",
   "execution_count": null,
   "id": "38a85e73-97d3-45a8-a4f1-7a28cfbcae65",
   "metadata": {},
   "outputs": [],
   "source": [
    "# The analyzer name for each detector has a number two less at the start of its name:\n",
    "d2a_name = {d: [x for x in analyzers.keys() if x.startswith(str(int(d.split('_',1)[0])-2))][0] for d in list(triplets.keys())}"
   ]
  },
  {
   "cell_type": "markdown",
   "id": "d4793848-6cd3-43a7-9a83-130ef80b172d",
   "metadata": {},
   "source": [
    "We also need to find the triplet object name for each pixel number"
   ]
  },
  {
   "cell_type": "code",
   "execution_count": null,
   "id": "4557b7ff-f1cb-4bdf-bbd3-2a266a552c09",
   "metadata": {},
   "outputs": [],
   "source": [
    "# Map pixel index to physical detector name\n",
    "p2d = {i: d for d in list(triplets.keys()) for i in triplets[d]['data'].coords['detector_number'].values.flatten()}"
   ]
  },
  {
   "cell_type": "markdown",
   "id": "df24d388-7e05-42c5-baf7-7f5584768a9a",
   "metadata": {},
   "source": [
    "Compute the position (and orientation) of each analyzer, then combine a subset of their properties and duplicate that to have per-pixel analyzer information."
   ]
  },
  {
   "cell_type": "code",
   "execution_count": null,
   "id": "f19c3897-c6f7-48cc-a00a-2ed3ebcb3f85",
   "metadata": {},
   "outputs": [],
   "source": [
    "def analyzer_extract(obj):\n",
    "    obj = snx.compute_positions(obj, store_transform='transform')\n",
    "    return sc.Dataset(data={k: obj[k] for k in ('position', 'transform', 'd_spacing')})\n",
    "\n",
    "analyzer_extracted = {k: analyzer_extract(v) for k, v in analyzers.items()}\n",
    "p2a_extract = {k: analyzer_extracted[d2a_name[v]] for k, v in p2d.items()}\n",
    "# by sorting the pixel indices, we ensure a one-to-one match with detector information\n",
    "pixels = sorted(p2a_extract)\n",
    "analyzers = sc.concat([p2a_extract[p] for p in pixels], dim='event_id')\n",
    "analyzers['event_id'] = sc.array(values=pixels, dims=['event_id'], unit=None)"
   ]
  },
  {
   "cell_type": "markdown",
   "id": "c65cc529-c1cc-4b67-9435-353dc20e89e6",
   "metadata": {},
   "source": [
    "The same can be done for the detectors, to have per-pixel detector information"
   ]
  },
  {
   "cell_type": "code",
   "execution_count": null,
   "id": "eca09d3b-3397-47af-8c8b-1f610b0a164f",
   "metadata": {},
   "outputs": [],
   "source": [
    "def detector_extract(name, obj):\n",
    "    pixel_indices = obj['data'].coords['detector_number']\n",
    "    cyl_midpoints = obj['data'].coords['position']\n",
    "    \n",
    "    return sc.Dataset(data={'event_id': pixel_indices, 'position': cyl_midpoints})\n",
    "\n",
    "detector_extracted = {k: detector_extract(k, v) for k, v in triplets.items()}\n",
    "detectors = sc.concat(list(detector_extracted.values()), dim='arm')\n",
    "detectors = sc.Dataset({k: v.flatten(to='event_id') for k, v in detectors.items()})\n",
    "detectors = sc.sort(detectors, detectors['event_id'].data)"
   ]
  },
  {
   "cell_type": "markdown",
   "id": "254732ea-f43a-4b2b-a2ab-d4d968fdd6d3",
   "metadata": {},
   "source": [
    "## We can see all events for all pixels\n",
    "\n",
    "As a function of simulation runtime (equivalent to measurement time) -- here we show _how_ the simulation was performed to emulate a multi-level system.\n",
    "\n",
    "Knowing that `mode_energy` was 0 meV, then 0.2 meV, ...,  to 1.0 meV as a function of simulation time:\n",
    "\n",
    "**Can you identify the inter-frame pivot time from this data alone?**"
   ]
  },
  {
   "cell_type": "code",
   "execution_count": null,
   "id": "0c67a69d-ff9d-4508-a18d-9d1c8db0eb2a",
   "metadata": {},
   "outputs": [],
   "source": [
    "all_events = sc.concat([v['data'] for v in triplets.values()], 'event_time_zero').bins.concat().group('event_time_zero')\n",
    "all_events.hist(frame_time=200).plot()"
   ]
  },
  {
   "cell_type": "markdown",
   "id": "eb1027e1-3769-4b66-9bce-ebaf553608ff",
   "metadata": {},
   "source": [
    "Or integrated over the measurement time"
   ]
  },
  {
   "cell_type": "code",
   "execution_count": null,
   "id": "e5438aa2-08a4-4dc2-9e28-4faa42ce0566",
   "metadata": {},
   "outputs": [],
   "source": [
    "all_events.hist(frame_time=200).sum('event_time_zero').plot()"
   ]
  },
  {
   "cell_type": "markdown",
   "id": "a342d0a0-e4ee-479f-ac73-91620e160a28",
   "metadata": {},
   "source": [
    "## To identify the time-of-flight we must back-propagate the events\n",
    "The sample-to-detector flight time is fixed per pixel, so we can find the frame time for each event when the neutron interacted with the sample.\n",
    "This requires that we use part of the workflow, and `sciline`"
   ]
  },
  {
   "cell_type": "code",
   "execution_count": null,
   "id": "e91697b8-1dfe-4521-b5ed-6e6147954612",
   "metadata": {},
   "outputs": [],
   "source": [
    "from sciline import Pipeline\n",
    "import numpy as np\n",
    "from ess.spectroscopy.types import *\n",
    "from ess.spectroscopy.indirect.kf import providers as kf_providers"
   ]
  },
  {
   "cell_type": "markdown",
   "id": "9be8141c-1ee3-42f3-8365-00e8a21a1ebe",
   "metadata": {},
   "source": [
    "The sample _should_ be at (0, 0, 0), but we use its recorded position in case it is not.\n",
    "Then we collect parameters needed to find the per-pixel sample-to-detector times, \n",
    "and construct the graph that can perform the calculation"
   ]
  },
  {
   "cell_type": "code",
   "execution_count": null,
   "id": "86885342-2265-4c0b-8c48-b6c17b60ce2d",
   "metadata": {},
   "outputs": [],
   "source": [
    "with snx.File(POOCH_DATA_DIR / datafile) as dg:\n",
    "    sample = snx.compute_positions(dg['entry/instrument/114_sample_stack'][...], store_transform='transform')\n",
    "\n",
    "geometry_params = {\n",
    "    SamplePosition: sample['position'],\n",
    "    AnalyzerPosition: analyzers['position'].data,\n",
    "    AnalyzerOrientation: analyzers['transform'].data,\n",
    "    DetectorPosition: detectors['position'].data,\n",
    "    ReciprocalLatticeSpacing: 2 * np.pi / analyzers['d_spacing'].data,\n",
    "}\n",
    "sample_detector_flight_time_pipeline = Pipeline(kf_providers, params=geometry_params)"
   ]
  },
  {
   "cell_type": "code",
   "execution_count": null,
   "id": "cfa72c26-d1a5-40a6-8733-42028981a4f8",
   "metadata": {},
   "outputs": [],
   "source": [
    "sample_detector_flight_times = sample_detector_flight_time_pipeline.get(SampleDetectorFlightTime).compute().to(unit='ms')"
   ]
  },
  {
   "cell_type": "markdown",
   "id": "db56abf8-424f-44e4-8809-241fb21929f0",
   "metadata": {},
   "source": [
    "Collect the events for all triplets, sorted by pixel index; then perform the back-propagation\n"
   ]
  },
  {
   "cell_type": "code",
   "execution_count": null,
   "id": "6cd61d65-ae3d-43ff-b930-dbc9d46b158d",
   "metadata": {},
   "outputs": [],
   "source": [
    "triplet_events = sc.concat([v['data'] for v in triplets.values()], dim='a').flatten(to='event_id')\n",
    "triplet_events = sc.sort(triplet_events, triplet_events.coords['detector_number'])\n",
    "\n",
    "sample_events = triplet_events.copy()\n",
    "for coord in ('position', 'x_pixel_offset', 'y_pixel_offset'):\n",
    "    del sample_events.coords[coord]\n",
    "sample_events.bins.coords['frame_time'] -= sample_detector_flight_times.to(unit='ns')\n",
    "sample_events.bins.coords['frame_time'] %= (1/sc.scalar(14.0, unit='Hz')).to(unit='ns')\n",
    "\n",
    "pp.plot({\n",
    "    'time at sample': sample_events.bins.concat().hist(frame_time=300), \n",
    "    'time at detector': triplet_events.bins.concat().hist(frame_time=300)\n",
    "}, title=\"Simulated Neutron Events\")"
   ]
  },
  {
   "cell_type": "markdown",
   "id": "b84d468b-e7c4-4b01-bd13-fc1000814ae6",
   "metadata": {},
   "source": [
    "### Now use the primary spectrometer to find the likely time-of-flight per event"
   ]
  },
  {
   "cell_type": "code",
   "execution_count": null,
   "id": "344dae7a-0757-42a8-8900-ef5424f1b31a",
   "metadata": {},
   "outputs": [],
   "source": [
    "from ess.spectroscopy.indirect.ki import providers as ki_providers\n",
    "primary_params = {\n",
    "    NeXusFileName: POOCH_DATA_DIR / datafile,\n",
    "    SampleName: '114_sample_stack',\n",
    "    SourceName: '001_ESS_source',\n",
    "    SourceDelay: sc.array(values=[0, 0], dims=['wavelength'], unit='sec'),  # moderator emission delay\n",
    "    SourceDuration: sc.scalar(3.0, unit='msec').to(unit='sec'),\n",
    "    SourceFrequency: sc.scalar(14.0, unit='Hz'),\n",
    "    SourceVelocities: sc.array(values=[100, 1e4], dims=['wavelength'], unit='m/s'), # ~53 ueV to 530 meV\n",
    "    SampleFrameTime: sample_events.data.bins.coords['frame_time'],\n",
    "    FocusComponentNames: [FocusComponentName('005_PulseShapingChopper'), FocusComponentName('006_PulseShapingChopper2')],\n",
    "}\n",
    "primary_pipeline = Pipeline(ki_providers, params=primary_params)"
   ]
  },
  {
   "cell_type": "code",
   "execution_count": null,
   "id": "4b55bd4f-cfaf-4993-bc4c-e9c458c80ce5",
   "metadata": {},
   "outputs": [],
   "source": [
    "unwrapped_sample_events = sample_events.copy()\n",
    "unwrapped_sample_events.bins.coords['frame_time'] = primary_pipeline.get(SampleTime).compute()"
   ]
  },
  {
   "cell_type": "code",
   "execution_count": null,
   "id": "0ec2e406-cb5e-4ba1-ad43-0ec00d60fc56",
   "metadata": {},
   "outputs": [],
   "source": [
    "pp.plot({\n",
    "    'time at sample': sample_events.bins.concat().hist(frame_time=300), \n",
    "    'unwrapped time at sample': unwrapped_sample_events.bins.concat().hist(frame_time=300),\n",
    "}, title=\"Simulated Neutron Events\")"
   ]
  },
  {
   "cell_type": "markdown",
   "id": "b35e5f23-54c2-4a9d-a88c-c65c005d9d05",
   "metadata": {},
   "source": [
    "The unwrapped sample time minus the pulse shaping chopper focus time gives the primary-spectrometer time-of-flight, and incident energy.\n",
    "We can verify that this has been done correctly by propagating the unwrapped times to the detectors, and comparing with the McStas recorded time-of-flights:"
   ]
  },
  {
   "cell_type": "code",
   "execution_count": null,
   "id": "75a5f8a6-b6bc-432e-a3d5-8ae52acb26d7",
   "metadata": {},
   "outputs": [],
   "source": [
    "mcstas_events = triplet_events.copy()\n",
    "del mcstas_events.bins.coords['frame_time'] # otherwise we can't rename event_time_zero\n",
    "\n",
    "total_flight_time_events = unwrapped_sample_events.copy()\n",
    "total_flight_time_events.bins.coords['frame_time'] += sample_detector_flight_times.to(unit='ns')"
   ]
  },
  {
   "cell_type": "code",
   "execution_count": null,
   "id": "a46d777d-3543-48ec-953e-3b1909dcc222",
   "metadata": {},
   "outputs": [],
   "source": [
    "pp.plot({\n",
    "    'Unwrapped time at detector': total_flight_time_events.bins.concat().hist(frame_time=300),\n",
    "    'McStas time of flight': mcstas_events.transform_coords(frame_time='event_time_offset').bins.concat().hist(frame_time=300),\n",
    "}, title=\"Simulated Neutron Events\")"
   ]
  },
  {
   "cell_type": "markdown",
   "id": "3e98b520-a321-4d0c-9775-26264adf791d",
   "metadata": {},
   "source": [
    "## Convert from times to energies"
   ]
  },
  {
   "cell_type": "code",
   "execution_count": null,
   "id": "6fcd3917-dc40-4fad-90b9-c939095e11ba",
   "metadata": {},
   "outputs": [],
   "source": [
    "from ess.spectroscopy.indirect.conservation import providers as qe_providers\n",
    "qe_params = dict()\n",
    "qe_params.update(primary_params)\n",
    "qe_params.update(geometry_params)\n",
    "qe_pipeline = Pipeline(qe_providers, params=qe_params)\n",
    "\n",
    "energy_events = sample_events.copy()\n",
    "energy_events.bins.coords['energy_transfer'] = qe_pipeline.get(EnergyTransfer).compute().to(unit='meV')\n",
    "energy_events.bins.coords['incident_energy'] = qe_pipeline.get(IncidentEnergy).compute()"
   ]
  },
  {
   "cell_type": "code",
   "execution_count": null,
   "id": "9ee5e57d-b4e4-4a0d-ac7e-d9b58b4e7585",
   "metadata": {},
   "outputs": [],
   "source": [
    "tube_count = 3 * 9 * 5\n",
    "p0 = energy_events.hist(detector_number=tube_count, incident_energy=256).plot()\n",
    "p1 = energy_events.hist(detector_number=tube_count, energy_transfer=128).plot()\n",
    "p0 + p1"
   ]
  }
 ],
 "metadata": {
  "kernelspec": {
   "display_name": "Python 3 (ipykernel)",
   "language": "python",
   "name": "python3"
  },
  "language_info": {
   "codemirror_mode": {
    "name": "ipython",
    "version": 3
   },
   "file_extension": ".py",
   "mimetype": "text/x-python",
   "name": "python",
   "nbconvert_exporter": "python",
   "pygments_lexer": "ipython3",
   "version": "3.12.5"
  }
 },
 "nbformat": 4,
 "nbformat_minor": 5
}
